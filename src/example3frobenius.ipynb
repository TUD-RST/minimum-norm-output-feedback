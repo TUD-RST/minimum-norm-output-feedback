{
 "cells": [
  {
   "cell_type": "markdown",
   "metadata": {},
   "source": [
    "# Example 3: Minimum Frobenius Norm Static Output Feedback"
   ]
  },
  {
   "cell_type": "markdown",
   "metadata": {},
   "source": [
    "The example system has been taken from \\[1, Example 3\\]. The eigenvalue placement with minimum Frobenium norm is discussed in \\[2, 3\\]. The poles should be placed at $-3,-4,-5,-2\\pm2j$, i.e., we want to have a conjugate complex pair.\n",
    "\n",
    "1. Lee, T. H.,; Wang, Q. G.; Koh, E. K. (1994). *An iterative algorithm for pole placement by output feedback*. IEEE Transactions on Automatic Control, 39(3), 565-568.\n",
    "2. Röbenack, K.: Voßwinkell, R.: Franke, M. (2018). *On the eigenvalue placement by static output feedback via quantifier elimination*. In 26th Mediterranean Conference on Control and Automation (MED), pp. 133-138. DOI: <https://doi.org/10.1109/MED.2018.8442817>\n",
    "3. Röbenack, K.; Gerbet, D.: *Minimum Norm Partial Eigenvalue Placement for Static Output Feedback Control*.\n",
    "[International Conference on System Theory, Control and Computing (ICSTCC)](https://icstcc2021.ac.tuiasi.ro/),   \n",
    "October 20-23, 2021, Iași, Romania"
   ]
  },
  {
   "cell_type": "markdown",
   "metadata": {},
   "source": [
    "Polynomial ring"
   ]
  },
  {
   "cell_type": "code",
   "execution_count": 2,
   "metadata": {},
   "outputs": [
    {
     "data": {
      "text/html": [
       "<html><script type=\"math/tex; mode=display\">\\newcommand{\\Bold}[1]{\\mathbf{#1}}\\Bold{Q}[k_{11}, k_{12}, k_{21}, k_{22}, k_{31}, k_{32}, s, l_{0}, l_{1}, l_{2}, l_{3}, l_{4}, l_{5}, q]</script></html>"
      ],
      "text/latex": [
       "$$\\newcommand{\\Bold}[1]{\\mathbf{#1}}\\Bold{Q}[k_{11}, k_{12}, k_{21}, k_{22}, k_{31}, k_{32}, s, l_{0}, l_{1}, l_{2}, l_{3}, l_{4}, l_{5}, q]$$"
      ],
      "text/plain": [
       "Multivariate Polynomial Ring in k11, k12, k21, k22, k31, k32, s, l0, l1, l2, l3, l4, l5, q over Rational Field"
      ]
     },
     "execution_count": 2,
     "metadata": {},
     "output_type": "execute_result"
    }
   ],
   "source": [
    "%display latex\n",
    "R.<k11,k12,k21,k22,k31,k32,s,l0,l1,l2,l3,l4,l5,q> = PolynomialRing(QQ, order='lex')\n",
    "R"
   ]
  },
  {
   "cell_type": "markdown",
   "metadata": {},
   "source": [
    "State space system"
   ]
  },
  {
   "cell_type": "code",
   "execution_count": 3,
   "metadata": {},
   "outputs": [
    {
     "data": {
      "text/html": [
       "<html><script type=\"math/tex; mode=display\">\\newcommand{\\Bold}[1]{\\mathbf{#1}}\\left(\\left(\\begin{array}{rrrrr}\n",
       "0 & 1 & 0 & 0 & 0 \\\\\n",
       "0 & 0 & 1 & 0 & 0 \\\\\n",
       "0 & 0 & 0 & 1 & 0 \\\\\n",
       "0 & 0 & 0 & 0 & 1 \\\\\n",
       "0 & 0 & 0 & 0 & 0\n",
       "\\end{array}\\right), \\left(\\begin{array}{rrr}\n",
       "1 & 0 & 0 \\\\\n",
       "1 & 0 & 0 \\\\\n",
       "0 & 1 & 0 \\\\\n",
       "0 & 1 & 0 \\\\\n",
       "0 & 0 & 1\n",
       "\\end{array}\\right), \\left(\\begin{array}{rrrrr}\n",
       "1 & 0 & 0 & 0 & 0 \\\\\n",
       "0 & 1 & 0 & 0 & 0\n",
       "\\end{array}\\right)\\right)</script></html>"
      ],
      "text/latex": [
       "$$\\newcommand{\\Bold}[1]{\\mathbf{#1}}\\left(\\left(\\begin{array}{rrrrr}\n",
       "0 & 1 & 0 & 0 & 0 \\\\\n",
       "0 & 0 & 1 & 0 & 0 \\\\\n",
       "0 & 0 & 0 & 1 & 0 \\\\\n",
       "0 & 0 & 0 & 0 & 1 \\\\\n",
       "0 & 0 & 0 & 0 & 0\n",
       "\\end{array}\\right), \\left(\\begin{array}{rrr}\n",
       "1 & 0 & 0 \\\\\n",
       "1 & 0 & 0 \\\\\n",
       "0 & 1 & 0 \\\\\n",
       "0 & 1 & 0 \\\\\n",
       "0 & 0 & 1\n",
       "\\end{array}\\right), \\left(\\begin{array}{rrrrr}\n",
       "1 & 0 & 0 & 0 & 0 \\\\\n",
       "0 & 1 & 0 & 0 & 0\n",
       "\\end{array}\\right)\\right)$$"
      ],
      "text/plain": [
       "(\n",
       "[0 1 0 0 0]  [1 0 0]             \n",
       "[0 0 1 0 0]  [1 0 0]             \n",
       "[0 0 0 1 0]  [0 1 0]             \n",
       "[0 0 0 0 1]  [0 1 0]  [1 0 0 0 0]\n",
       "[0 0 0 0 0], [0 0 1], [0 1 0 0 0]\n",
       ")"
      ]
     },
     "execution_count": 3,
     "metadata": {},
     "output_type": "execute_result"
    }
   ],
   "source": [
    "A = matrix(R,[[0,1,0,0,0],\n",
    "        [0,0,1,0,0],\n",
    "        [0,0,0,1,0],\n",
    "        [0,0,0,0,1],\n",
    "        [0,0,0,0,0]])\n",
    "B = matrix(R,[[1,0,0],[1,0,0],[0,1,0],[0,1,0],[0,0,1]])\n",
    "C = matrix(R,[[1,0,0,0,0],[0,1,0,0,0]])\n",
    "(A,B,C)"
   ]
  },
  {
   "cell_type": "code",
   "execution_count": 3,
   "metadata": {},
   "outputs": [
    {
     "data": {
      "text/html": [
       "<html><script type=\"math/tex; mode=display\">\\newcommand{\\Bold}[1]{\\mathbf{#1}}\\left(\\begin{array}{rr}\n",
       "k_{11} & k_{12} \\\\\n",
       "k_{21} & k_{22} \\\\\n",
       "k_{31} & k_{32}\n",
       "\\end{array}\\right)</script></html>"
      ],
      "text/plain": [
       "[k11 k12]\n",
       "[k21 k22]\n",
       "[k31 k32]"
      ]
     },
     "execution_count": 3,
     "metadata": {},
     "output_type": "execute_result"
    }
   ],
   "source": [
    "K = matrix(R,[[k11,k12],[k21,k22],[k31,k32]])\n",
    "K"
   ]
  },
  {
   "cell_type": "markdown",
   "metadata": {},
   "source": [
    "Charakteristisches Polynom des geschlossenen Kreises"
   ]
  },
  {
   "cell_type": "code",
   "execution_count": 4,
   "metadata": {},
   "outputs": [
    {
     "data": {
      "text/html": [
       "<html><script type=\"math/tex; mode=display\">\\newcommand{\\Bold}[1]{\\mathbf{#1}}k_{11} s^{4} + k_{12} s^{4} + s^{5} - k_{12} k_{21} s^{2} + k_{11} k_{22} s^{2} + k_{11} s^{3} + k_{22} s^{3} - k_{12} k_{21} s + k_{11} k_{22} s + k_{21} s^{2} + k_{22} s^{2} - k_{12} k_{31} + k_{11} k_{32} + k_{21} s + k_{32} s + k_{31}</script></html>"
      ],
      "text/plain": [
       "k11*s^4 + k12*s^4 + s^5 - k12*k21*s^2 + k11*k22*s^2 + k11*s^3 + k22*s^3 - k12*k21*s + k11*k22*s + k21*s^2 + k22*s^2 - k12*k31 + k11*k32 + k21*s + k32*s + k31"
      ]
     },
     "execution_count": 4,
     "metadata": {},
     "output_type": "execute_result"
    }
   ],
   "source": [
    "CP = det(s*matrix.identity(5)-(A-B*K*C))\n",
    "CP"
   ]
  },
  {
   "cell_type": "markdown",
   "metadata": {},
   "source": [
    "Divisionsreste"
   ]
  },
  {
   "cell_type": "code",
   "execution_count": 5,
   "metadata": {},
   "outputs": [],
   "source": [
    "q1,r1 = CP.quo_rem(s+5)\n",
    "q2,r2 = CP.quo_rem(s+4)\n",
    "q3,r3 = CP.quo_rem(s+3)\n",
    "q4,r4 = CP.quo_rem(s^2 + 4*s + 8)\n",
    "r4a = r4.coefficient({s:0})\n",
    "r4b = r4.coefficient({s:1})"
   ]
  },
  {
   "cell_type": "markdown",
   "metadata": {},
   "source": [
    "Lagrange-Funktion"
   ]
  },
  {
   "cell_type": "code",
   "execution_count": 6,
   "metadata": {},
   "outputs": [
    {
     "data": {
      "text/html": [
       "<html><script type=\"math/tex; mode=display\">\\newcommand{\\Bold}[1]{\\mathbf{#1}}k_{11}^{2} l_{0} + 20 k_{11} k_{22} l_{1} + 12 k_{11} k_{22} l_{2} + 6 k_{11} k_{22} l_{3} - 8 k_{11} k_{22} l_{4} - 3 k_{11} k_{22} l_{5} + k_{11} k_{32} l_{1} + k_{11} k_{32} l_{2} + k_{11} k_{32} l_{3} + k_{11} k_{32} l_{4} + 500 k_{11} l_{1} + 192 k_{11} l_{2} + 54 k_{11} l_{3} - 32 k_{11} l_{4} + 8 k_{11} l_{5} + k_{12}^{2} l_{0} - 20 k_{12} k_{21} l_{1} - 12 k_{12} k_{21} l_{2} - 6 k_{12} k_{21} l_{3} + 8 k_{12} k_{21} l_{4} + 3 k_{12} k_{21} l_{5} - k_{12} k_{31} l_{1} - k_{12} k_{31} l_{2} - k_{12} k_{31} l_{3} - k_{12} k_{31} l_{4} + 625 k_{12} l_{1} + 256 k_{12} l_{2} + 81 k_{12} l_{3} - 64 k_{12} l_{4} + k_{21}^{2} l_{0} + 20 k_{21} l_{1} + 12 k_{21} l_{2} + 6 k_{21} l_{3} - 8 k_{21} l_{4} - 3 k_{21} l_{5} + k_{22}^{2} l_{0} - 100 k_{22} l_{1} - 48 k_{22} l_{2} - 18 k_{22} l_{3} + 24 k_{22} l_{4} + 4 k_{22} l_{5} + k_{31}^{2} l_{0} + k_{31} l_{1} + k_{31} l_{2} + k_{31} l_{3} + k_{31} l_{4} + k_{32}^{2} l_{0} - 5 k_{32} l_{1} - 4 k_{32} l_{2} - 3 k_{32} l_{3} + k_{32} l_{5} - l_{0} q - 3125 l_{1} - 1024 l_{2} - 243 l_{3} - 64 l_{5} + q</script></html>"
      ],
      "text/plain": [
       "k11^2*l0 + 20*k11*k22*l1 + 12*k11*k22*l2 + 6*k11*k22*l3 - 8*k11*k22*l4 - 3*k11*k22*l5 + k11*k32*l1 + k11*k32*l2 + k11*k32*l3 + k11*k32*l4 + 500*k11*l1 + 192*k11*l2 + 54*k11*l3 - 32*k11*l4 + 8*k11*l5 + k12^2*l0 - 20*k12*k21*l1 - 12*k12*k21*l2 - 6*k12*k21*l3 + 8*k12*k21*l4 + 3*k12*k21*l5 - k12*k31*l1 - k12*k31*l2 - k12*k31*l3 - k12*k31*l4 + 625*k12*l1 + 256*k12*l2 + 81*k12*l3 - 64*k12*l4 + k21^2*l0 + 20*k21*l1 + 12*k21*l2 + 6*k21*l3 - 8*k21*l4 - 3*k21*l5 + k22^2*l0 - 100*k22*l1 - 48*k22*l2 - 18*k22*l3 + 24*k22*l4 + 4*k22*l5 + k31^2*l0 + k31*l1 + k31*l2 + k31*l3 + k31*l4 + k32^2*l0 - 5*k32*l1 - 4*k32*l2 - 3*k32*l3 + k32*l5 - l0*q - 3125*l1 - 1024*l2 - 243*l3 - 64*l5 + q"
      ]
     },
     "execution_count": 6,
     "metadata": {},
     "output_type": "execute_result"
    }
   ],
   "source": [
    "L = q + l0*(k11^2+k12^2+k21^2+k22^2+k31^2+k32^2-q) + l1*r1 + l2*r2 + l3*r3 + l4*r4a + l5*r4b\n",
    "L"
   ]
  },
  {
   "cell_type": "markdown",
   "metadata": {},
   "source": [
    "Notwendige Optimalitätsbedingung / Ideal"
   ]
  },
  {
   "cell_type": "code",
   "execution_count": 7,
   "metadata": {},
   "outputs": [
    {
     "name": "stdout",
     "output_type": "stream",
     "text": [
      "0  :  k11  :  2*k11*l0 + 20*k22*l1 + 12*k22*l2 + 6*k22*l3 - 8*k22*l4 - 3*k22*l5 + k32*l1 + k32*l2 + k32*l3 + k32*l4 + 500*l1 + 192*l2 + 54*l3 - 32*l4 + 8*l5\n",
      "1  :  k12  :  2*k12*l0 - 20*k21*l1 - 12*k21*l2 - 6*k21*l3 + 8*k21*l4 + 3*k21*l5 - k31*l1 - k31*l2 - k31*l3 - k31*l4 + 625*l1 + 256*l2 + 81*l3 - 64*l4\n",
      "2  :  k21  :  -20*k12*l1 - 12*k12*l2 - 6*k12*l3 + 8*k12*l4 + 3*k12*l5 + 2*k21*l0 + 20*l1 + 12*l2 + 6*l3 - 8*l4 - 3*l5\n",
      "3  :  k22  :  20*k11*l1 + 12*k11*l2 + 6*k11*l3 - 8*k11*l4 - 3*k11*l5 + 2*k22*l0 - 100*l1 - 48*l2 - 18*l3 + 24*l4 + 4*l5\n",
      "4  :  k31  :  -k12*l1 - k12*l2 - k12*l3 - k12*l4 + 2*k31*l0 + l1 + l2 + l3 + l4\n",
      "5  :  k32  :  k11*l1 + k11*l2 + k11*l3 + k11*l4 + 2*k32*l0 - 5*l1 - 4*l2 - 3*l3 + l5\n",
      "6  :  l0  :  k11^2 + k12^2 + k21^2 + k22^2 + k31^2 + k32^2 - q\n",
      "7  :  l1  :  20*k11*k22 + k11*k32 + 500*k11 - 20*k12*k21 - k12*k31 + 625*k12 + 20*k21 - 100*k22 + k31 - 5*k32 - 3125\n",
      "8  :  l2  :  12*k11*k22 + k11*k32 + 192*k11 - 12*k12*k21 - k12*k31 + 256*k12 + 12*k21 - 48*k22 + k31 - 4*k32 - 1024\n",
      "9  :  l3  :  6*k11*k22 + k11*k32 + 54*k11 - 6*k12*k21 - k12*k31 + 81*k12 + 6*k21 - 18*k22 + k31 - 3*k32 - 243\n",
      "10  :  l4  :  -8*k11*k22 + k11*k32 - 32*k11 + 8*k12*k21 - k12*k31 - 64*k12 - 8*k21 + 24*k22 + k31\n",
      "11  :  l5  :  -3*k11*k22 + 8*k11 + 3*k12*k21 - 3*k21 + 4*k22 + k32 - 64\n",
      "12  :  q  :  -l0 + 1\n"
     ]
    },
    {
     "data": {
      "text/html": [
       "<html><script type=\"math/tex; mode=display\">\\newcommand{\\Bold}[1]{\\mathbf{#1}}\\left(2 k_{11} l_{0} + 20 k_{22} l_{1} + 12 k_{22} l_{2} + 6 k_{22} l_{3} - 8 k_{22} l_{4} - 3 k_{22} l_{5} + k_{32} l_{1} + k_{32} l_{2} + k_{32} l_{3} + k_{32} l_{4} + 500 l_{1} + 192 l_{2} + 54 l_{3} - 32 l_{4} + 8 l_{5}, 2 k_{12} l_{0} - 20 k_{21} l_{1} - 12 k_{21} l_{2} - 6 k_{21} l_{3} + 8 k_{21} l_{4} + 3 k_{21} l_{5} - k_{31} l_{1} - k_{31} l_{2} - k_{31} l_{3} - k_{31} l_{4} + 625 l_{1} + 256 l_{2} + 81 l_{3} - 64 l_{4}, -20 k_{12} l_{1} - 12 k_{12} l_{2} - 6 k_{12} l_{3} + 8 k_{12} l_{4} + 3 k_{12} l_{5} + 2 k_{21} l_{0} + 20 l_{1} + 12 l_{2} + 6 l_{3} - 8 l_{4} - 3 l_{5}, 20 k_{11} l_{1} + 12 k_{11} l_{2} + 6 k_{11} l_{3} - 8 k_{11} l_{4} - 3 k_{11} l_{5} + 2 k_{22} l_{0} - 100 l_{1} - 48 l_{2} - 18 l_{3} + 24 l_{4} + 4 l_{5}, -k_{12} l_{1} - k_{12} l_{2} - k_{12} l_{3} - k_{12} l_{4} + 2 k_{31} l_{0} + l_{1} + l_{2} + l_{3} + l_{4}, k_{11} l_{1} + k_{11} l_{2} + k_{11} l_{3} + k_{11} l_{4} + 2 k_{32} l_{0} - 5 l_{1} - 4 l_{2} - 3 l_{3} + l_{5}, k_{11}^{2} + k_{12}^{2} + k_{21}^{2} + k_{22}^{2} + k_{31}^{2} + k_{32}^{2} - q, 20 k_{11} k_{22} + k_{11} k_{32} + 500 k_{11} - 20 k_{12} k_{21} - k_{12} k_{31} + 625 k_{12} + 20 k_{21} - 100 k_{22} + k_{31} - 5 k_{32} - 3125, 12 k_{11} k_{22} + k_{11} k_{32} + 192 k_{11} - 12 k_{12} k_{21} - k_{12} k_{31} + 256 k_{12} + 12 k_{21} - 48 k_{22} + k_{31} - 4 k_{32} - 1024, 6 k_{11} k_{22} + k_{11} k_{32} + 54 k_{11} - 6 k_{12} k_{21} - k_{12} k_{31} + 81 k_{12} + 6 k_{21} - 18 k_{22} + k_{31} - 3 k_{32} - 243, -8 k_{11} k_{22} + k_{11} k_{32} - 32 k_{11} + 8 k_{12} k_{21} - k_{12} k_{31} - 64 k_{12} - 8 k_{21} + 24 k_{22} + k_{31}, -3 k_{11} k_{22} + 8 k_{11} + 3 k_{12} k_{21} - 3 k_{21} + 4 k_{22} + k_{32} - 64, -l_{0} + 1\\right)\\Bold{Q}[k_{11}, k_{12}, k_{21}, k_{22}, k_{31}, k_{32}, s, l_{0}, l_{1}, l_{2}, l_{3}, l_{4}, l_{5}, q]</script></html>"
      ],
      "text/plain": [
       "Ideal (2*k11*l0 + 20*k22*l1 + 12*k22*l2 + 6*k22*l3 - 8*k22*l4 - 3*k22*l5 + k32*l1 + k32*l2 + k32*l3 + k32*l4 + 500*l1 + 192*l2 + 54*l3 - 32*l4 + 8*l5, 2*k12*l0 - 20*k21*l1 - 12*k21*l2 - 6*k21*l3 + 8*k21*l4 + 3*k21*l5 - k31*l1 - k31*l2 - k31*l3 - k31*l4 + 625*l1 + 256*l2 + 81*l3 - 64*l4, -20*k12*l1 - 12*k12*l2 - 6*k12*l3 + 8*k12*l4 + 3*k12*l5 + 2*k21*l0 + 20*l1 + 12*l2 + 6*l3 - 8*l4 - 3*l5, 20*k11*l1 + 12*k11*l2 + 6*k11*l3 - 8*k11*l4 - 3*k11*l5 + 2*k22*l0 - 100*l1 - 48*l2 - 18*l3 + 24*l4 + 4*l5, -k12*l1 - k12*l2 - k12*l3 - k12*l4 + 2*k31*l0 + l1 + l2 + l3 + l4, k11*l1 + k11*l2 + k11*l3 + k11*l4 + 2*k32*l0 - 5*l1 - 4*l2 - 3*l3 + l5, k11^2 + k12^2 + k21^2 + k22^2 + k31^2 + k32^2 - q, 20*k11*k22 + k11*k32 + 500*k11 - 20*k12*k21 - k12*k31 + 625*k12 + 20*k21 - 100*k22 + k31 - 5*k32 - 3125, 12*k11*k22 + k11*k32 + 192*k11 - 12*k12*k21 - k12*k31 + 256*k12 + 12*k21 - 48*k22 + k31 - 4*k32 - 1024, 6*k11*k22 + k11*k32 + 54*k11 - 6*k12*k21 - k12*k31 + 81*k12 + 6*k21 - 18*k22 + k31 - 3*k32 - 243, -8*k11*k22 + k11*k32 - 32*k11 + 8*k12*k21 - k12*k31 - 64*k12 - 8*k21 + 24*k22 + k31, -3*k11*k22 + 8*k11 + 3*k12*k21 - 3*k21 + 4*k22 + k32 - 64, -l0 + 1) of Multivariate Polynomial Ring in k11, k12, k21, k22, k31, k32, s, l0, l1, l2, l3, l4, l5, q over Rational Field"
      ]
     },
     "execution_count": 7,
     "metadata": {},
     "output_type": "execute_result"
    }
   ],
   "source": [
    "vars = [k11,k12,k21,k22,k31,k32,l0,l1,l2,l3,l4,l5,q]\n",
    "PLIST = []\n",
    "for ii in range(len(vars)):\n",
    "    print(ii,\" : \",vars[ii],\" : \",diff(L,vars[ii]))\n",
    "    PLIST.append(diff(L,vars[ii]))\n",
    "I = Ideal(PLIST)\n",
    "I"
   ]
  },
  {
   "cell_type": "code",
   "execution_count": 8,
   "metadata": {},
   "outputs": [
    {
     "data": {
      "text/html": [
       "<html><script type=\"math/tex; mode=display\">\\newcommand{\\Bold}[1]{\\mathbf{#1}}1</script></html>"
      ],
      "text/plain": [
       "1"
      ]
     },
     "execution_count": 8,
     "metadata": {},
     "output_type": "execute_result"
    }
   ],
   "source": [
    "I.dimension()"
   ]
  },
  {
   "cell_type": "markdown",
   "metadata": {},
   "source": [
    "Ring OHNE die Varaible s"
   ]
  },
  {
   "cell_type": "code",
   "execution_count": 9,
   "metadata": {},
   "outputs": [
    {
     "data": {
      "text/html": [
       "<html><script type=\"math/tex; mode=display\">\\newcommand{\\Bold}[1]{\\mathbf{#1}}0</script></html>"
      ],
      "text/plain": [
       "0"
      ]
     },
     "execution_count": 9,
     "metadata": {},
     "output_type": "execute_result"
    }
   ],
   "source": [
    "J = I.change_ring(PolynomialRing(QQ, 'k11,k12,k21,k22,k31,k32,l0,l1,l2,l3,l4,l5,q'))\n",
    "J.dimension()"
   ]
  },
  {
   "cell_type": "markdown",
   "metadata": {},
   "source": [
    "Varietät"
   ]
  },
  {
   "cell_type": "code",
   "execution_count": 10,
   "metadata": {},
   "outputs": [
    {
     "data": {
      "text/html": [
       "<html><script type=\"math/tex; mode=display\">\\newcommand{\\Bold}[1]{\\mathbf{#1}}\\left[\\verb|{q:|\\phantom{\\verb!x!}\\verb|149947.5561771188?,|\\phantom{\\verb!x!}\\verb|l5:|\\phantom{\\verb!x!}\\verb|-2754.672356708970?,|\\phantom{\\verb!x!}\\verb|l4:|\\phantom{\\verb!x!}\\verb|1952.570945031685?,|\\phantom{\\verb!x!}\\verb|l3:|\\phantom{\\verb!x!}\\verb|-7807.476270714297?,|\\phantom{\\verb!x!}\\verb|l2:|\\phantom{\\verb!x!}\\verb|7868.782920887759?,|\\phantom{\\verb!x!}\\verb|l1:|\\phantom{\\verb!x!}\\verb|-2011.229167673838?,|\\phantom{\\verb!x!}\\verb|l0:|\\phantom{\\verb!x!}\\verb|1,|\\phantom{\\verb!x!}\\verb|k32:|\\phantom{\\verb!x!}\\verb|373.1040444944647?,|\\phantom{\\verb!x!}\\verb|k31:|\\phantom{\\verb!x!}\\verb|17.35255610531564?,|\\phantom{\\verb!x!}\\verb|k22:|\\phantom{\\verb!x!}\\verb|101.10404449446474?,|\\phantom{\\verb!x!}\\verb|k21:|\\phantom{\\verb!x!}\\verb|-3.907738998902481?,|\\phantom{\\verb!x!}\\verb|k12:|\\phantom{\\verb!x!}\\verb|14.104044494464742?,|\\phantom{\\verb!x!}\\verb|k11:|\\phantom{\\verb!x!}\\verb|1.895955505535258?}|, \\verb|{q:|\\phantom{\\verb!x!}\\verb|154095.7160695417?,|\\phantom{\\verb!x!}\\verb|l5:|\\phantom{\\verb!x!}\\verb|-3273.439606425716?,|\\phantom{\\verb!x!}\\verb|l4:|\\phantom{\\verb!x!}\\verb|2213.228973542798?,|\\phantom{\\verb!x!}\\verb|l3:|\\phantom{\\verb!x!}\\verb|-8648.772464306895?,|\\phantom{\\verb!x!}\\verb|l2:|\\phantom{\\verb!x!}\\verb|8623.84652124811?,|\\phantom{\\verb!x!}\\verb|l1:|\\phantom{\\verb!x!}\\verb|-2185.449727392833?,|\\phantom{\\verb!x!}\\verb|l0:|\\phantom{\\verb!x!}\\verb|1,|\\phantom{\\verb!x!}\\verb|k32:|\\phantom{\\verb!x!}\\verb|204.7678011058971?,|\\phantom{\\verb!x!}\\verb|k31:|\\phantom{\\verb!x!}\\verb|-221.4622564769529?,|\\phantom{\\verb!x!}\\verb|k22:|\\phantom{\\verb!x!}\\verb|-67.23219889410296?,|\\phantom{\\verb!x!}\\verb|k21:|\\phantom{\\verb!x!}\\verb|76.3779508219885?,|\\phantom{\\verb!x!}\\verb|k12:|\\phantom{\\verb!x!}\\verb|-154.2321988941030?,|\\phantom{\\verb!x!}\\verb|k11:|\\phantom{\\verb!x!}\\verb|170.2321988941030?}|, \\verb|{q:|\\phantom{\\verb!x!}\\verb|225149.0338066715?|\\phantom{\\verb!x!}\\verb|-|\\phantom{\\verb!x!}\\verb|155419.5856845946?*I,|\\phantom{\\verb!x!}\\verb|l5:|\\phantom{\\verb!x!}\\verb|-4909.769202582603?|\\phantom{\\verb!x!}\\verb|+|\\phantom{\\verb!x!}\\verb|2173.343915871926?*I,|\\phantom{\\verb!x!}\\verb|l4:|\\phantom{\\verb!x!}\\verb|3359.363266825246?|\\phantom{\\verb!x!}\\verb|-|\\phantom{\\verb!x!}\\verb|1654.503927668110?*I,|\\phantom{\\verb!x!}\\verb|l3:|\\phantom{\\verb!x!}\\verb|-13183.407338034519?|\\phantom{\\verb!x!}\\verb|+|\\phantom{\\verb!x!}\\verb|6840.583095138847?*I,|\\phantom{\\verb!x!}\\verb|l2:|\\phantom{\\verb!x!}\\verb|13137.76272590154?|\\phantom{\\verb!x!}\\verb|-|\\phantom{\\verb!x!}\\verb|7032.648442745714?*I,|\\phantom{\\verb!x!}\\verb|l1:|\\phantom{\\verb!x!}\\verb|-3320.507268578285?|\\phantom{\\verb!x!}\\verb|+|\\phantom{\\verb!x!}\\verb|1831.456466140880?*I,|\\phantom{\\verb!x!}\\verb|l0:|\\phantom{\\verb!x!}\\verb|1,|\\phantom{\\verb!x!}\\verb|k32:|\\phantom{\\verb!x!}\\verb|360.1474105331525?|\\phantom{\\verb!x!}\\verb|-|\\phantom{\\verb!x!}\\verb|45.56369481778983?*I,|\\phantom{\\verb!x!}\\verb|k31:|\\phantom{\\verb!x!}\\verb|-344.7980682089170?|\\phantom{\\verb!x!}\\verb|+|\\phantom{\\verb!x!}\\verb|153.5432720434014?*I,|\\phantom{\\verb!x!}\\verb|k22:|\\phantom{\\verb!x!}\\verb|88.1474105331525?|\\phantom{\\verb!x!}\\verb|-|\\phantom{\\verb!x!}\\verb|45.56369481778983?*I,|\\phantom{\\verb!x!}\\verb|k21:|\\phantom{\\verb!x!}\\verb|-72.07186170530965?|\\phantom{\\verb!x!}\\verb|+|\\phantom{\\verb!x!}\\verb|68.91537574625540?*I,|\\phantom{\\verb!x!}\\verb|k12:|\\phantom{\\verb!x!}\\verb|1.147410533152441?|\\phantom{\\verb!x!}\\verb|-|\\phantom{\\verb!x!}\\verb|45.56369481778983?*I,|\\phantom{\\verb!x!}\\verb|k11:|\\phantom{\\verb!x!}\\verb|14.85258946684756?|\\phantom{\\verb!x!}\\verb|+|\\phantom{\\verb!x!}\\verb|45.56369481778983?*I}|, \\verb|{q:|\\phantom{\\verb!x!}\\verb|225149.0338066715?|\\phantom{\\verb!x!}\\verb|+|\\phantom{\\verb!x!}\\verb|155419.5856845946?*I,|\\phantom{\\verb!x!}\\verb|l5:|\\phantom{\\verb!x!}\\verb|-4909.769202582603?|\\phantom{\\verb!x!}\\verb|-|\\phantom{\\verb!x!}\\verb|2173.343915871926?*I,|\\phantom{\\verb!x!}\\verb|l4:|\\phantom{\\verb!x!}\\verb|3359.363266825246?|\\phantom{\\verb!x!}\\verb|+|\\phantom{\\verb!x!}\\verb|1654.503927668110?*I,|\\phantom{\\verb!x!}\\verb|l3:|\\phantom{\\verb!x!}\\verb|-13183.407338034519?|\\phantom{\\verb!x!}\\verb|-|\\phantom{\\verb!x!}\\verb|6840.583095138847?*I,|\\phantom{\\verb!x!}\\verb|l2:|\\phantom{\\verb!x!}\\verb|13137.76272590154?|\\phantom{\\verb!x!}\\verb|+|\\phantom{\\verb!x!}\\verb|7032.648442745714?*I,|\\phantom{\\verb!x!}\\verb|l1:|\\phantom{\\verb!x!}\\verb|-3320.507268578285?|\\phantom{\\verb!x!}\\verb|-|\\phantom{\\verb!x!}\\verb|1831.456466140880?*I,|\\phantom{\\verb!x!}\\verb|l0:|\\phantom{\\verb!x!}\\verb|1,|\\phantom{\\verb!x!}\\verb|k32:|\\phantom{\\verb!x!}\\verb|360.1474105331525?|\\phantom{\\verb!x!}\\verb|+|\\phantom{\\verb!x!}\\verb|45.56369481778983?*I,|\\phantom{\\verb!x!}\\verb|k31:|\\phantom{\\verb!x!}\\verb|-344.7980682089170?|\\phantom{\\verb!x!}\\verb|-|\\phantom{\\verb!x!}\\verb|153.5432720434014?*I,|\\phantom{\\verb!x!}\\verb|k22:|\\phantom{\\verb!x!}\\verb|88.1474105331525?|\\phantom{\\verb!x!}\\verb|+|\\phantom{\\verb!x!}\\verb|45.56369481778983?*I,|\\phantom{\\verb!x!}\\verb|k21:|\\phantom{\\verb!x!}\\verb|-72.07186170530965?|\\phantom{\\verb!x!}\\verb|-|\\phantom{\\verb!x!}\\verb|68.91537574625540?*I,|\\phantom{\\verb!x!}\\verb|k12:|\\phantom{\\verb!x!}\\verb|1.147410533152441?|\\phantom{\\verb!x!}\\verb|+|\\phantom{\\verb!x!}\\verb|45.56369481778983?*I,|\\phantom{\\verb!x!}\\verb|k11:|\\phantom{\\verb!x!}\\verb|14.85258946684756?|\\phantom{\\verb!x!}\\verb|-|\\phantom{\\verb!x!}\\verb|45.56369481778983?*I}|\\right]</script></html>"
      ],
      "text/plain": [
       "[{q: 149947.5561771188?, l5: -2754.672356708970?, l4: 1952.570945031685?, l3: -7807.476270714297?, l2: 7868.782920887759?, l1: -2011.229167673838?, l0: 1, k32: 373.1040444944647?, k31: 17.35255610531564?, k22: 101.10404449446474?, k21: -3.907738998902481?, k12: 14.104044494464742?, k11: 1.895955505535258?},\n",
       " {q: 154095.7160695417?, l5: -3273.439606425716?, l4: 2213.228973542798?, l3: -8648.772464306895?, l2: 8623.84652124811?, l1: -2185.449727392833?, l0: 1, k32: 204.7678011058971?, k31: -221.4622564769529?, k22: -67.23219889410296?, k21: 76.3779508219885?, k12: -154.2321988941030?, k11: 170.2321988941030?},\n",
       " {q: 225149.0338066715? - 155419.5856845946?*I, l5: -4909.769202582603? + 2173.343915871926?*I, l4: 3359.363266825246? - 1654.503927668110?*I, l3: -13183.407338034519? + 6840.583095138847?*I, l2: 13137.76272590154? - 7032.648442745714?*I, l1: -3320.507268578285? + 1831.456466140880?*I, l0: 1, k32: 360.1474105331525? - 45.56369481778983?*I, k31: -344.7980682089170? + 153.5432720434014?*I, k22: 88.1474105331525? - 45.56369481778983?*I, k21: -72.07186170530965? + 68.91537574625540?*I, k12: 1.147410533152441? - 45.56369481778983?*I, k11: 14.85258946684756? + 45.56369481778983?*I},\n",
       " {q: 225149.0338066715? + 155419.5856845946?*I, l5: -4909.769202582603? - 2173.343915871926?*I, l4: 3359.363266825246? + 1654.503927668110?*I, l3: -13183.407338034519? - 6840.583095138847?*I, l2: 13137.76272590154? + 7032.648442745714?*I, l1: -3320.507268578285? - 1831.456466140880?*I, l0: 1, k32: 360.1474105331525? + 45.56369481778983?*I, k31: -344.7980682089170? - 153.5432720434014?*I, k22: 88.1474105331525? + 45.56369481778983?*I, k21: -72.07186170530965? - 68.91537574625540?*I, k12: 1.147410533152441? + 45.56369481778983?*I, k11: 14.85258946684756? - 45.56369481778983?*I}]"
      ]
     },
     "execution_count": 10,
     "metadata": {},
     "output_type": "execute_result"
    }
   ],
   "source": [
    "lsg = J.variety(QQbar)\n",
    "lsg"
   ]
  },
  {
   "cell_type": "markdown",
   "metadata": {},
   "source": [
    "> Auswahl der konkreten Lösung"
   ]
  },
  {
   "cell_type": "code",
   "execution_count": 11,
   "metadata": {},
   "outputs": [
    {
     "data": {
      "text/html": [
       "<html><script type=\"math/tex; mode=display\">\\newcommand{\\Bold}[1]{\\mathbf{#1}}\\verb|{q:|\\phantom{\\verb!x!}\\verb|149947.5561771188?,|\\phantom{\\verb!x!}\\verb|l5:|\\phantom{\\verb!x!}\\verb|-2754.672356708970?,|\\phantom{\\verb!x!}\\verb|l4:|\\phantom{\\verb!x!}\\verb|1952.570945031685?,|\\phantom{\\verb!x!}\\verb|l3:|\\phantom{\\verb!x!}\\verb|-7807.476270714297?,|\\phantom{\\verb!x!}\\verb|l2:|\\phantom{\\verb!x!}\\verb|7868.782920887759?,|\\phantom{\\verb!x!}\\verb|l1:|\\phantom{\\verb!x!}\\verb|-2011.229167673838?,|\\phantom{\\verb!x!}\\verb|l0:|\\phantom{\\verb!x!}\\verb|1,|\\phantom{\\verb!x!}\\verb|k32:|\\phantom{\\verb!x!}\\verb|373.1040444944647?,|\\phantom{\\verb!x!}\\verb|k31:|\\phantom{\\verb!x!}\\verb|17.35255610531564?,|\\phantom{\\verb!x!}\\verb|k22:|\\phantom{\\verb!x!}\\verb|101.10404449446474?,|\\phantom{\\verb!x!}\\verb|k21:|\\phantom{\\verb!x!}\\verb|-3.907738998902481?,|\\phantom{\\verb!x!}\\verb|k12:|\\phantom{\\verb!x!}\\verb|14.104044494464742?,|\\phantom{\\verb!x!}\\verb|k11:|\\phantom{\\verb!x!}\\verb|1.895955505535258?}|</script></html>"
      ],
      "text/plain": [
       "{q: 149947.5561771188?, l5: -2754.672356708970?, l4: 1952.570945031685?, l3: -7807.476270714297?, l2: 7868.782920887759?, l1: -2011.229167673838?, l0: 1, k32: 373.1040444944647?, k31: 17.35255610531564?, k22: 101.10404449446474?, k21: -3.907738998902481?, k12: 14.104044494464742?, k11: 1.895955505535258?}"
      ]
     },
     "execution_count": 11,
     "metadata": {},
     "output_type": "execute_result"
    }
   ],
   "source": [
    "lx = lsg[0]\n",
    "lx"
   ]
  },
  {
   "cell_type": "code",
   "execution_count": 12,
   "metadata": {},
   "outputs": [
    {
     "data": {
      "text/html": [
       "<html><script type=\"math/tex; mode=display\">\\newcommand{\\Bold}[1]{\\mathbf{#1}}\\left(\\begin{array}{rr}\n",
       "1.89595550553526 & 14.1040444944647 \\\\\n",
       "-3.90773899890248 & 101.104044494465 \\\\\n",
       "17.3525561053156 & 373.104044494465\n",
       "\\end{array}\\right)</script></html>"
      ],
      "text/plain": [
       "[ 1.89595550553526  14.1040444944647]\n",
       "[-3.90773899890248  101.104044494465]\n",
       "[ 17.3525561053156  373.104044494465]"
      ]
     },
     "execution_count": 12,
     "metadata": {},
     "output_type": "execute_result"
    }
   ],
   "source": [
    "K0 = K.subs(k11=RR(lx['k11']),k12=RR(lx['k12']),\n",
    "            k21=RR(lx['k21']),k22=RR(lx['k22']),\n",
    "            k31=RR(lx['k31']),k32=RR(lx['k32']))\n",
    "K0"
   ]
  },
  {
   "cell_type": "code",
   "execution_count": 13,
   "metadata": {},
   "outputs": [
    {
     "data": {
      "text/html": [
       "<html><script type=\"math/tex; mode=display\">\\newcommand{\\Bold}[1]{\\mathbf{#1}}387.2306240176759</script></html>"
      ],
      "text/plain": [
       "387.2306240176759"
      ]
     },
     "execution_count": 13,
     "metadata": {},
     "output_type": "execute_result"
    }
   ],
   "source": [
    "K0.norm('frob')"
   ]
  },
  {
   "cell_type": "code",
   "execution_count": 14,
   "metadata": {},
   "outputs": [
    {
     "name": "stderr",
     "output_type": "stream",
     "text": [
      "<ipython-input-14-271656df1031>:2: UserWarning: Using generic algorithm for an inexact ring, which will probably give incorrect results due to numerical precision issues.\n",
      "  A0.eigenvalues()\n"
     ]
    },
    {
     "data": {
      "text/html": [
       "<html><script type=\"math/tex; mode=display\">\\newcommand{\\Bold}[1]{\\mathbf{#1}}\\left[-2.00000000000000 + 2.00000000000000i, -2.00000000000000 - 2.00000000000000i, -3.00000000000004, -3.99999999999994, -5.00000000000001\\right]</script></html>"
      ],
      "text/plain": [
       "[-2.00000000000000 + 2.00000000000000*I, -2.00000000000000 - 2.00000000000000*I, -3.00000000000004, -3.99999999999994, -5.00000000000001]"
      ]
     },
     "execution_count": 14,
     "metadata": {},
     "output_type": "execute_result"
    }
   ],
   "source": [
    "A0 = matrix(CC,A-B*K0*C)\n",
    "A0.eigenvalues()"
   ]
  }
 ],
 "metadata": {
  "kernelspec": {
   "display_name": "SageMath 9.3",
   "language": "sage",
   "name": "sagemath"
  },
  "language_info": {
   "codemirror_mode": {
    "name": "ipython",
    "version": 3
   },
   "file_extension": ".py",
   "mimetype": "text/x-python",
   "name": "python",
   "nbconvert_exporter": "python",
   "pygments_lexer": "ipython3",
   "version": "3.9.6"
  }
 },
 "nbformat": 4,
 "nbformat_minor": 4
}
